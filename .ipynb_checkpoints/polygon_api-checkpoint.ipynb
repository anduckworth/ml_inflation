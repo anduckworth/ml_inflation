{
 "cells": [
  {
   "cell_type": "code",
   "execution_count": 3,
   "id": "b3bfc038-aae4-40fd-92cf-979d35f732d7",
   "metadata": {},
   "outputs": [],
   "source": [
    "import pandas as pd\n",
    "import numpy as py\n",
    "from polygon import RESTClient\n",
    "import datetime\n",
    "import json\n",
    "import requests\n",
    "\n"
   ]
  },
  {
   "cell_type": "code",
   "execution_count": 6,
   "id": "d923a798",
   "metadata": {},
   "outputs": [
    {
     "ename": "AttributeError",
     "evalue": "'RESTClient' object has no attribute 'stocks_equities_stockfinancialsvx'",
     "output_type": "error",
     "traceback": [
      "\u001b[0;31m---------------------------------------------------------------------------\u001b[0m",
      "\u001b[0;31mAttributeError\u001b[0m                            Traceback (most recent call last)",
      "\u001b[0;32m<ipython-input-6-72c1c42b9973>\u001b[0m in \u001b[0;36m<module>\u001b[0;34m\u001b[0m\n\u001b[1;32m     21\u001b[0m \u001b[0;34m\u001b[0m\u001b[0m\n\u001b[1;32m     22\u001b[0m \u001b[0;32mif\u001b[0m \u001b[0m__name__\u001b[0m \u001b[0;34m==\u001b[0m \u001b[0;34m'__main__'\u001b[0m\u001b[0;34m:\u001b[0m\u001b[0;34m\u001b[0m\u001b[0;34m\u001b[0m\u001b[0m\n\u001b[0;32m---> 23\u001b[0;31m     \u001b[0mmain\u001b[0m\u001b[0;34m(\u001b[0m\u001b[0;34m)\u001b[0m\u001b[0;34m\u001b[0m\u001b[0;34m\u001b[0m\u001b[0m\n\u001b[0m",
      "\u001b[0;32m<ipython-input-6-72c1c42b9973>\u001b[0m in \u001b[0;36mmain\u001b[0;34m()\u001b[0m\n\u001b[1;32m     11\u001b[0m         \u001b[0mfrom_\u001b[0m \u001b[0;34m=\u001b[0m \u001b[0;34m\"2019-07-01\"\u001b[0m\u001b[0;34m\u001b[0m\u001b[0;34m\u001b[0m\u001b[0m\n\u001b[1;32m     12\u001b[0m         \u001b[0mto\u001b[0m \u001b[0;34m=\u001b[0m \u001b[0;34m\"2021-07-01\"\u001b[0m\u001b[0;34m\u001b[0m\u001b[0;34m\u001b[0m\u001b[0m\n\u001b[0;32m---> 13\u001b[0;31m         \u001b[0mresp\u001b[0m \u001b[0;34m=\u001b[0m \u001b[0mclient\u001b[0m\u001b[0;34m.\u001b[0m\u001b[0mstocks_equities_stockfinancialsvx\u001b[0m\u001b[0;34m(\u001b[0m\u001b[0;34m\"AAPL\"\u001b[0m\u001b[0;34m,\u001b[0m \u001b[0;36m1\u001b[0m\u001b[0;34m,\u001b[0m \u001b[0;34m\"day\"\u001b[0m\u001b[0;34m,\u001b[0m \u001b[0mfrom_\u001b[0m\u001b[0;34m,\u001b[0m \u001b[0mto\u001b[0m\u001b[0;34m,\u001b[0m \u001b[0munadjusted\u001b[0m\u001b[0;34m=\u001b[0m\u001b[0;32mFalse\u001b[0m\u001b[0;34m)\u001b[0m\u001b[0;34m\u001b[0m\u001b[0;34m\u001b[0m\u001b[0m\n\u001b[0m\u001b[1;32m     14\u001b[0m \u001b[0;34m\u001b[0m\u001b[0m\n\u001b[1;32m     15\u001b[0m         \u001b[0mprint\u001b[0m\u001b[0;34m(\u001b[0m\u001b[0;34mf\"Minute aggregates for {resp.ticker} between {from_} and {to}.\"\u001b[0m\u001b[0;34m)\u001b[0m\u001b[0;34m\u001b[0m\u001b[0;34m\u001b[0m\u001b[0m\n",
      "\u001b[0;31mAttributeError\u001b[0m: 'RESTClient' object has no attribute 'stocks_equities_stockfinancialsvx'"
     ]
    }
   ],
   "source": [
    "def ts_to_datetime(ts) -> str:\n",
    "    return datetime.datetime.fromtimestamp(ts / 1000.0).strftime('%Y-%m-%d %H:%M')\n",
    "\n",
    "\n",
    "def main():\n",
    "    key = \"XrTJjjYQpsWD5i9Gn1vBE1LEu1J1R5gJ\"\n",
    "\n",
    "    # RESTClient can be used as a context manager to facilitate closing the underlying http session\n",
    "    # https://requests.readthedocs.io/en/master/user/advanced/#session-objects\n",
    "    with RESTClient(key) as client:\n",
    "        from_ = \"2019-07-01\"\n",
    "        to = \"2021-07-01\"\n",
    "        resp = client.stocks_equities_stockfinancialsvx(\"AAPL\", 1, \"day\", from_, to, unadjusted=False)\n",
    "\n",
    "        print(f\"Minute aggregates for {resp.ticker} between {from_} and {to}.\")\n",
    "\n",
    "        for result in resp.results:\n",
    "            dt = ts_to_datetime(result[\"t\"])\n",
    "            print(f\"{dt}\\n\\tO: {result['o']}\\n\\tH: {result['h']}\\n\\tL: {result['l']}\\n\\tC: {result['c']} \")\n",
    "\n",
    "\n",
    "if __name__ == '__main__':\n",
    "    main()"
   ]
  },
  {
   "cell_type": "code",
   "execution_count": 9,
   "id": "c2758445",
   "metadata": {},
   "outputs": [],
   "source": [
    "def main():\n",
    "    key = \"XrTJjjYQpsWD5i9Gn1vBE1LEu1J1R5gJ\"\n",
    "\n",
    "    # RESTClient can be used as a context manager to facilitate closing the underlying http session\n",
    "    # https://requests.readthedocs.io/en/master/user/advanced/#session-objects\n",
    "    with RESTClient(key) as client:\n",
    "        resp = client.stocks_equities_daily_open_close(\"AAPL\", \"2021-06-11\")\n",
    "        print(f\"On: {resp.from_} Apple opened at {resp.open} and closed at {resp.close}\")\n",
    "\n",
    "\n",
    "if __name__ == '__main__':\n",
    "    main()\n"
   ]
  },
  {
   "cell_type": "code",
   "execution_count": null,
   "id": "3244cba1",
   "metadata": {},
   "outputs": [],
   "source": []
  }
 ],
 "metadata": {
  "kernelspec": {
   "display_name": "Python 3",
   "language": "python",
   "name": "python3"
  },
  "language_info": {
   "codemirror_mode": {
    "name": "ipython",
    "version": 3
   },
   "file_extension": ".py",
   "mimetype": "text/x-python",
   "name": "python",
   "nbconvert_exporter": "python",
   "pygments_lexer": "ipython3",
   "version": "3.6.13"
  }
 },
 "nbformat": 4,
 "nbformat_minor": 5
}
